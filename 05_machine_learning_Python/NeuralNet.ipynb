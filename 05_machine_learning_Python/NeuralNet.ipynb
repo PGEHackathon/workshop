{
 "cells": [
  {
   "cell_type": "markdown",
   "metadata": {},
   "source": [
    "### Artificial Neural Net Demonstration and Exercise"
   ]
  },
  {
   "cell_type": "markdown",
   "metadata": {},
   "source": [
    "#### Goal\n",
    "\n",
    "Reservoir property estimation from seismic information with artificial neural nets.\n",
    "\n",
    "#### Description\n",
    "\n",
    "Here's a simple, documented workflow, demonstration of reservoir property estimation from seismic information with artificial neural nets for subsurface modeling workflows. This should help you get started with building subsurface models that integrate machine learning to integrate data sources. \n",
    "\n",
    "#### Artificial Neural Networks\n",
    "\n",
    "Machine learning method for supervised learning for classification and regression analysis.  Here are some key aspects of support vector machines.\n",
    "\n",
    "Machine learning method for supervised learning for classification and regression analysis.  Here are some key aspects of support vector machines.\n",
    "\n",
    "**Basic Design** *\"...a computing system made up of a number of simple, highly interconnected processing elements, which process information by their dynamic state response to external inputs.\"* Caudill (1989). \n",
    "\n",
    "**Nature-inspire Computing** based on the neuronal structure in the brain, including many interconnected simple, processing units, known as nodes that are capable of complicated emergent pattern detection due to a large number of nodes and interconnectivity.\n",
    "\n",
    "**Training and Testing** just like and other predictive model (e.g. linear regression, decision trees and support vector machines) we perform training to fit parameters and testing to tune hyperparameters.  Here we observe the error with training and testing datasets, but do not demonstrate tuning of the hyperparameters.  \n",
    "\n",
    "**Parameters** are the weights applied to each connection and a bias term applied to each node.  For a single node in an artificial neural network, this includes the slope terms, $\\beta_i$, and the bias term, $\\beta_{0}$.\n",
    "\n",
    "\\begin{equation}\n",
    "Y = \\sum_{i=1}^m \\beta_i X + \\beta_0\n",
    "\\end{equation}\n",
    "\n",
    "it can be seen that the number of parameters increases rapidly as we increase the number of nodes and the connectivity between the nodes.\n",
    "\n",
    "**Layers** the typical artificial neural net is structured with an **input layer**, with one node for each $m$ predictor feature, $X_1,\\ldots,X_m$. There is an **ouput layer**, with one node for each $r$ response feature, $Y_1,\\ldots,Y_r$.  There may be one or more layers of nodes between the input and output layers, known as **hidden layer(s)**.  \n",
    "\n",
    "**Connections** are the linkages between the nodes in adjacent layers.  For example, in a fully connected artificial neural network, all the input nodes are connected to all of the nodes in the first layer, then all of the nodes in the first layer are connected to the next layer and so forth. Each connection includes a weight parameter as indicated above.\n",
    "\n",
    "**Nodes** receive the weighted signal from the connected previous layer nodes, sum and then apply this result to the **activation** function in the node. Some example activation functions include:\n",
    "\n",
    "* **Binary** the node fires or not.  This is represented by a Heaviside step function.\n",
    "\n",
    "* **Identify** the input is passed to the output $f(x) = x$\n",
    "\n",
    "* **Linear** the node passes a signal that increases linearly with the weighted input.\n",
    "\n",
    "* **Logistic** also known as sigmoid or soft step $f(x) = \\frac{1}{1+e^{-x}}$\n",
    "\n",
    "the node output is the nonlinear activiation function applied to the linearly weighted inputs. This is fed to all nodes in the next layer.\n",
    "\n",
    "**Training Cycles** - the presentation of a batch of data, forward application of the current prediction model to make estimates, calculation of error and then backpropagation of error to correct the artificial neural network parameters to reduce the error over all of the batches.\n",
    "\n",
    "**Batch** is the set of training data for each training cycle of forward prediction and back propagation of error, drawn to train for each iteration. There is a trade-off, a larger batch results in more computational time per iteration, but a more accurate estimate of the error to adjust the weights.  Smaller batches result in a nosier estimate of the error, but faster epochs, this results in faster learning and even possibly more robust models.\n",
    "\n",
    "**Epochs** - is a set of training cycles, batches covering all available training data.  \n",
    "\n",
    "**Local Minimums** - if one calculated the error hypersurface over the range of model parameters it would be hyparabolic, there is a global minimium error solution.  But this error hyper surface is rough and it is possible to be stuck in a local minimum. **Learning Rate** and **Mommentum** coefficients are introduced to avoid getting stuck in local minimums.\n",
    "\n",
    "* **Mommentum** is a hyperparameter to control the use of information from the weight update over the last epoch for consideration in the current epoch.  This can be accomplished with an update vector, $v_i$, a mommentum parameter, $\\alpha$, to calculate the current weight update, $v_{i+1}$ given the new update $\\theta_{i+1}$.\n",
    "\n",
    "\\begin{equation}\n",
    "v_{i+1} = \\alpha v_i + \\theta_{i+1}\n",
    "\\end{equation}\n",
    "\n",
    "* **Learning Rate** is a hyperparameter that controls the adjustment of the weights in response to the gradient indicated by backpropagation of error \n",
    "\n",
    "##### Applications to subsurface modeling\n",
    "\n",
    "We demonstrate the estimation of normal score transformed porosity from depth.  This would be useful for building a vertical trend model. \n",
    "\n",
    "* modeling the complicated relationship between porosity and depth.\n",
    "\n",
    "#### Limitations of Neural Network Estimation\n",
    "\n",
    "Since we demonstrate the use of an artificial neural network to estimate porosity from sparsely sampled data over depth, we should comment on limitations of our artificial neural networks for this estimation problem:\n",
    "\n",
    "* does not honor the well data\n",
    "\n",
    "* does not honor the histogram of the data\n",
    "\n",
    "* does not honor spatial correlation \n",
    "\n",
    "* does not honor the multivariate relationship\n",
    "\n",
    "* generally low interpretability models\n",
    "\n",
    "* requires a large number of data for effective training\n",
    "\n",
    "* high model complexity with high model variance\n",
    "\n",
    "\n",
    "#### Workflow Goals\n",
    "\n",
    "Learn the basics of machine learning in python to predict subsurface features. This includes:\n",
    "\n",
    "* Loading and visualizing sample data\n",
    "* Trying out neural nets\n",
    "\n",
    "#### Import Required Packages\n",
    "\n",
    "We will also need some standard packages. These should have been installed with Anaconda 3."
   ]
  },
  {
   "cell_type": "code",
   "execution_count": 1,
   "metadata": {},
   "outputs": [],
   "source": [
    "import geostatspy.GSLIB as GSLIB          # GSLIB utilies, visualization and wrapper\n",
    "import geostatspy.geostats as geostats    # GSLIB methods convert to Python        "
   ]
  },
  {
   "cell_type": "markdown",
   "metadata": {},
   "source": [
    "We will also need some standard packages. These should have been installed with Anaconda 3."
   ]
  },
  {
   "cell_type": "code",
   "execution_count": 2,
   "metadata": {},
   "outputs": [
    {
     "name": "stderr",
     "output_type": "stream",
     "text": [
      "/Users/john/miniconda3/envs/daytum-eds/lib/python3.7/site-packages/intake/source/discovery.py:137: FutureWarning: The drivers ['sql_cat', 'sql', 'sql_auto', 'sql_manual'] do not specify entry_points and were only discovered via a package scan. This may break in a future release of intake. The packages should be updated.\n",
      "  FutureWarning)\n"
     ]
    }
   ],
   "source": [
    "import numpy as np                        # ndarrys for gridded data\n",
    "import pandas as pd                       # DataFrames for tabular data\n",
    "import os                                 # set working directory, run executables\n",
    "import matplotlib.pyplot as plt           # for plotting\n",
    "import seaborn as sns                     # for plotting\n",
    "import warnings                           # supress warnings from seaborn pairplot\n",
    "from sklearn.model_selection import train_test_split # train / test DatFrame split\n",
    "\n",
    "from intake import cat"
   ]
  },
  {
   "cell_type": "markdown",
   "metadata": {},
   "source": [
    "We will also need the following packages to train and test our artificial neural nets:\n",
    "\n",
    "* Tensorflow - open source machine learning \n",
    "\n",
    "* Keras - high level application programing interface (API) to build and train models\n",
    "\n",
    "* This workflow was designed with tensorflow version 2.1.\n",
    "\n",
    "To check your current version of tensorflow you could run the next block of code."
   ]
  },
  {
   "cell_type": "code",
   "execution_count": 3,
   "metadata": {},
   "outputs": [
    {
     "data": {
      "text/plain": [
       "'2.0.0'"
      ]
     },
     "execution_count": 3,
     "metadata": {},
     "output_type": "execute_result"
    }
   ],
   "source": [
    "import tensorflow as tf\n",
    "tf.__version__                            # check the installed version of tensorflow"
   ]
  },
  {
   "cell_type": "markdown",
   "metadata": {},
   "source": [
    "Let's import all of the tensorflow and keras methods that we will need in our workflow."
   ]
  },
  {
   "cell_type": "code",
   "execution_count": 4,
   "metadata": {},
   "outputs": [
    {
     "name": "stderr",
     "output_type": "stream",
     "text": [
      "Using TensorFlow backend.\n"
     ]
    }
   ],
   "source": [
    "import tensorflow as tf\n",
    "from keras.models import Sequential, load_model\n",
    "from keras.layers.core import Dense, Dropout, Activation\n",
    "from keras.utils import np_utils\n",
    "import keras\n",
    "from tensorflow.python.keras import backend as k"
   ]
  },
  {
   "cell_type": "markdown",
   "metadata": {},
   "source": [
    "#### Loading Data \n",
    "\n",
    "* Depth ($m$)\n",
    "* Normal Score Porosity \n",
    "\n",
    "It is common to transform properties to standard normal for geostatistical workflows. "
   ]
  },
  {
   "cell_type": "code",
   "execution_count": 5,
   "metadata": {},
   "outputs": [
    {
     "data": {
      "text/html": [
       "<div>\n",
       "<style scoped>\n",
       "    .dataframe tbody tr th:only-of-type {\n",
       "        vertical-align: middle;\n",
       "    }\n",
       "\n",
       "    .dataframe tbody tr th {\n",
       "        vertical-align: top;\n",
       "    }\n",
       "\n",
       "    .dataframe thead th {\n",
       "        text-align: right;\n",
       "    }\n",
       "</style>\n",
       "<table border=\"1\" class=\"dataframe\">\n",
       "  <thead>\n",
       "    <tr style=\"text-align: right;\">\n",
       "      <th></th>\n",
       "      <th>Depth</th>\n",
       "      <th>Nporosity</th>\n",
       "    </tr>\n",
       "  </thead>\n",
       "  <tbody>\n",
       "    <tr>\n",
       "      <th>0</th>\n",
       "      <td>0.25</td>\n",
       "      <td>-1.37</td>\n",
       "    </tr>\n",
       "    <tr>\n",
       "      <th>1</th>\n",
       "      <td>0.50</td>\n",
       "      <td>-2.08</td>\n",
       "    </tr>\n",
       "    <tr>\n",
       "      <th>2</th>\n",
       "      <td>0.75</td>\n",
       "      <td>-1.60</td>\n",
       "    </tr>\n",
       "    <tr>\n",
       "      <th>3</th>\n",
       "      <td>1.00</td>\n",
       "      <td>-1.16</td>\n",
       "    </tr>\n",
       "    <tr>\n",
       "      <th>4</th>\n",
       "      <td>1.25</td>\n",
       "      <td>-0.24</td>\n",
       "    </tr>\n",
       "  </tbody>\n",
       "</table>\n",
       "</div>"
      ],
      "text/plain": [
       "   Depth  Nporosity\n",
       "0   0.25      -1.37\n",
       "1   0.50      -2.08\n",
       "2   0.75      -1.60\n",
       "3   1.00      -1.16\n",
       "4   1.25      -0.24"
      ]
     },
     "execution_count": 5,
     "metadata": {},
     "output_type": "execute_result"
    }
   ],
   "source": [
    "df2 = cat.porosity_1D.read()                                 # display first 5 samples in the table as a preview\n",
    "df2.head()                                                   # we could also use this command for a table preview "
   ]
  },
  {
   "cell_type": "markdown",
   "metadata": {},
   "source": [
    "#### Data Normalization\n",
    "\n",
    "We must normalize the features before we apply them in an artificial neural network model. These are the motivations for this normalization:\n",
    "\n",
    "* remove impact of scale of different types of data (i.e., depth varies between $[0,10]$, but porosity only varies between $[-3,3.0]$).\n",
    "\n",
    "* activation functions in artificial neural networks are designed to be more sensive to values of nodes closer to 0.0 (i.e., results in higher gradient and improves backpropagation in training)\n",
    "\n",
    "Let's normalize each feature.  \n",
    "\n",
    "* We apply the min max normalization by-hand to force both the predictor and response features to be bound $[-1,1]$.\n",
    "\n",
    "* It is easy to backtransform given we keep track of the original min and max values"
   ]
  },
  {
   "cell_type": "code",
   "execution_count": 6,
   "metadata": {},
   "outputs": [
    {
     "data": {
      "text/html": [
       "<div>\n",
       "<style scoped>\n",
       "    .dataframe tbody tr th:only-of-type {\n",
       "        vertical-align: middle;\n",
       "    }\n",
       "\n",
       "    .dataframe tbody tr th {\n",
       "        vertical-align: top;\n",
       "    }\n",
       "\n",
       "    .dataframe thead th {\n",
       "        text-align: right;\n",
       "    }\n",
       "</style>\n",
       "<table border=\"1\" class=\"dataframe\">\n",
       "  <thead>\n",
       "    <tr style=\"text-align: right;\">\n",
       "      <th></th>\n",
       "      <th>Depth</th>\n",
       "      <th>Nporosity</th>\n",
       "      <th>norm_Depth</th>\n",
       "      <th>norm_Nporosity</th>\n",
       "    </tr>\n",
       "  </thead>\n",
       "  <tbody>\n",
       "    <tr>\n",
       "      <th>0</th>\n",
       "      <td>0.25</td>\n",
       "      <td>-1.37</td>\n",
       "      <td>-1.000000</td>\n",
       "      <td>-0.679458</td>\n",
       "    </tr>\n",
       "    <tr>\n",
       "      <th>1</th>\n",
       "      <td>0.50</td>\n",
       "      <td>-2.08</td>\n",
       "      <td>-0.948718</td>\n",
       "      <td>-1.000000</td>\n",
       "    </tr>\n",
       "    <tr>\n",
       "      <th>2</th>\n",
       "      <td>0.75</td>\n",
       "      <td>-1.60</td>\n",
       "      <td>-0.897436</td>\n",
       "      <td>-0.783296</td>\n",
       "    </tr>\n",
       "    <tr>\n",
       "      <th>3</th>\n",
       "      <td>1.00</td>\n",
       "      <td>-1.16</td>\n",
       "      <td>-0.846154</td>\n",
       "      <td>-0.584650</td>\n",
       "    </tr>\n",
       "    <tr>\n",
       "      <th>4</th>\n",
       "      <td>1.25</td>\n",
       "      <td>-0.24</td>\n",
       "      <td>-0.794872</td>\n",
       "      <td>-0.169300</td>\n",
       "    </tr>\n",
       "  </tbody>\n",
       "</table>\n",
       "</div>"
      ],
      "text/plain": [
       "   Depth  Nporosity  norm_Depth  norm_Nporosity\n",
       "0   0.25      -1.37   -1.000000       -0.679458\n",
       "1   0.50      -2.08   -0.948718       -1.000000\n",
       "2   0.75      -1.60   -0.897436       -0.783296\n",
       "3   1.00      -1.16   -0.846154       -0.584650\n",
       "4   1.25      -0.24   -0.794872       -0.169300"
      ]
     },
     "execution_count": 6,
     "metadata": {},
     "output_type": "execute_result"
    }
   ],
   "source": [
    "depth_min = df2['Depth'].values.min(); depth_max = df2['Depth'].values.max()\n",
    "Npor_min = df2['Nporosity'].values.min(); Npor_max = df2['Nporosity'].values.max()\n",
    "df2['norm_Depth'] = (df2['Depth'] - depth_min)/(depth_max - depth_min) * 2 - 1\n",
    "df2['norm_Nporosity'] = (df2['Nporosity'] - Npor_min)/(Npor_max - Npor_min) * 2 - 1\n",
    "df2.head()"
   ]
  },
  {
   "cell_type": "markdown",
   "metadata": {},
   "source": [
    "It is also a good idea to check the summary statistics.  \n",
    "\n",
    "* All normalized features should now range from -1.0 to 1.0"
   ]
  },
  {
   "cell_type": "code",
   "execution_count": 7,
   "metadata": {},
   "outputs": [
    {
     "data": {
      "text/html": [
       "<div>\n",
       "<style scoped>\n",
       "    .dataframe tbody tr th:only-of-type {\n",
       "        vertical-align: middle;\n",
       "    }\n",
       "\n",
       "    .dataframe tbody tr th {\n",
       "        vertical-align: top;\n",
       "    }\n",
       "\n",
       "    .dataframe thead th {\n",
       "        text-align: right;\n",
       "    }\n",
       "</style>\n",
       "<table border=\"1\" class=\"dataframe\">\n",
       "  <thead>\n",
       "    <tr style=\"text-align: right;\">\n",
       "      <th></th>\n",
       "      <th>count</th>\n",
       "      <th>mean</th>\n",
       "      <th>std</th>\n",
       "      <th>min</th>\n",
       "      <th>25%</th>\n",
       "      <th>50%</th>\n",
       "      <th>75%</th>\n",
       "      <th>max</th>\n",
       "    </tr>\n",
       "  </thead>\n",
       "  <tbody>\n",
       "    <tr>\n",
       "      <th>Depth</th>\n",
       "      <td>40.0</td>\n",
       "      <td>5.125000</td>\n",
       "      <td>2.922613</td>\n",
       "      <td>0.25</td>\n",
       "      <td>2.687500</td>\n",
       "      <td>5.125000e+00</td>\n",
       "      <td>7.562500</td>\n",
       "      <td>10.00</td>\n",
       "    </tr>\n",
       "    <tr>\n",
       "      <th>Nporosity</th>\n",
       "      <td>40.0</td>\n",
       "      <td>0.024000</td>\n",
       "      <td>0.989107</td>\n",
       "      <td>-2.08</td>\n",
       "      <td>-0.757500</td>\n",
       "      <td>1.400000e-01</td>\n",
       "      <td>0.742500</td>\n",
       "      <td>2.35</td>\n",
       "    </tr>\n",
       "    <tr>\n",
       "      <th>norm_Depth</th>\n",
       "      <td>40.0</td>\n",
       "      <td>0.000000</td>\n",
       "      <td>0.599510</td>\n",
       "      <td>-1.00</td>\n",
       "      <td>-0.500000</td>\n",
       "      <td>-5.551115e-17</td>\n",
       "      <td>0.500000</td>\n",
       "      <td>1.00</td>\n",
       "    </tr>\n",
       "    <tr>\n",
       "      <th>norm_Nporosity</th>\n",
       "      <td>40.0</td>\n",
       "      <td>-0.050113</td>\n",
       "      <td>0.446549</td>\n",
       "      <td>-1.00</td>\n",
       "      <td>-0.402935</td>\n",
       "      <td>2.257336e-03</td>\n",
       "      <td>0.274266</td>\n",
       "      <td>1.00</td>\n",
       "    </tr>\n",
       "  </tbody>\n",
       "</table>\n",
       "</div>"
      ],
      "text/plain": [
       "                count      mean       std   min       25%           50%  \\\n",
       "Depth            40.0  5.125000  2.922613  0.25  2.687500  5.125000e+00   \n",
       "Nporosity        40.0  0.024000  0.989107 -2.08 -0.757500  1.400000e-01   \n",
       "norm_Depth       40.0  0.000000  0.599510 -1.00 -0.500000 -5.551115e-17   \n",
       "norm_Nporosity   40.0 -0.050113  0.446549 -1.00 -0.402935  2.257336e-03   \n",
       "\n",
       "                     75%    max  \n",
       "Depth           7.562500  10.00  \n",
       "Nporosity       0.742500   2.35  \n",
       "norm_Depth      0.500000   1.00  \n",
       "norm_Nporosity  0.274266   1.00  "
      ]
     },
     "execution_count": 7,
     "metadata": {},
     "output_type": "execute_result"
    }
   ],
   "source": [
    "df2.describe().transpose()"
   ]
  },
  {
   "cell_type": "markdown",
   "metadata": {},
   "source": [
    "#### Separation of Training and Testing Data\n",
    "\n",
    "We also need to split our data into training / testing datasets so that we:\n",
    "\n",
    "* can train our artificial neural networks using the training data \n",
    "\n",
    "* while testing their performance with the withheld testing (validation) data."
   ]
  },
  {
   "cell_type": "code",
   "execution_count": 8,
   "metadata": {},
   "outputs": [],
   "source": [
    "X2 = df2.iloc[:,[0,2]]                        # extract the predictor feature - acoustic impedance\n",
    "y2 = df2.iloc[:,[1,3]]                        # extract the response feature - porosity\n",
    "X2_train, X2_test, y2_train, y2_test = train_test_split(X2, y2, test_size=0.2, random_state=73073)"
   ]
  },
  {
   "cell_type": "markdown",
   "metadata": {},
   "source": [
    "#### Visualize the Dataset\n",
    "\n",
    "Let's visualize the train and test data split on a single scatter plot.\n",
    "\n",
    "* we want to make sure it is fair\n",
    "\n",
    "* ensure that the test samples are not clustered or too far away from the training data.\n",
    "\n",
    "We will look at the original data and normalized data, the input to the neural network."
   ]
  },
  {
   "cell_type": "code",
   "execution_count": 9,
   "metadata": {},
   "outputs": [
    {
     "data": {
      "image/png": "[encoded data removed]",
      "text/plain": [
       "<Figure size 432x288 with 2 Axes>"
      ]
     },
     "metadata": {
      "needs_background": "light"
     },
     "output_type": "display_data"
    }
   ],
   "source": [
    "plt.subplot(211)\n",
    "plt.plot(X2_train['Depth'].values,y2_train['Nporosity'].values, 'o', markerfacecolor='red', markeredgecolor='black', alpha=0.4, label = \"Train\")\n",
    "plt.plot(X2_test['Depth'].values,y2_test['Nporosity'].values, 'o', markerfacecolor='blue', markeredgecolor='black', alpha=0.4, label = \"Test\")\n",
    "plt.title('Standard Normal Porosity vs. Depth')\n",
    "plt.xlabel('Z (m)')\n",
    "plt.ylabel('NPorosity')\n",
    "plt.legend()\n",
    "plt.subplots_adjust(left=0.0, bottom=0.0, right=2.0, top=1.0, wspace=0.2, hspace=0.2)\n",
    "\n",
    "plt.subplot(212)\n",
    "plt.plot(X2_train['norm_Depth'].values,y2_train['norm_Nporosity'].values, 'o', markerfacecolor='red', markeredgecolor='black', alpha=0.4, label = \"Train\")\n",
    "plt.plot(X2_test['norm_Depth'].values,y2_test['norm_Nporosity'].values, 'o', markerfacecolor='blue', markeredgecolor='black', alpha=0.4, label = \"Test\")\n",
    "plt.title('Normalized Standard Normal Porosity vs. Normalized Depth')\n",
    "plt.xlabel('Normalized Z')\n",
    "plt.ylabel('Normalized NPorosity')\n",
    "plt.legend()\n",
    "\n",
    "plt.subplots_adjust(left=0.0, bottom=0.0, right=2.0, top=1.5, wspace=0.2, hspace=0.3)\n",
    "plt.show()"
   ]
  },
  {
   "cell_type": "markdown",
   "metadata": {},
   "source": [
    "#### Specify the Prediction Locations\n",
    "\n",
    "Given this training and testing data, let's specify the prediction locations over the range of the observed depths at regularly spaced $nbins$ locations.  "
   ]
  },
  {
   "cell_type": "code",
   "execution_count": 10,
   "metadata": {},
   "outputs": [],
   "source": [
    "# Specify the prediction locations\n",
    "nbins = 1000\n",
    "depth_bins = np.linspace(depth_min, depth_max, nbins) # set the bins for prediction\n",
    "norm_depth_bins = (depth_bins-depth_min)/(depth_max-depth_min)*2-1 # use normalized bins"
   ]
  },
  {
   "cell_type": "markdown",
   "metadata": {},
   "source": [
    "#### Build and Train a Simple Neural Network\n",
    "\n",
    "For our first model we will build a simple model with:  \n",
    "\n",
    "* 1 predictor feature - depth ($d$)\n",
    "\n",
    "* 1 response feature - normal score porosity ($N\\{\\phi\\}$)\n",
    "\n",
    "we will build a model to predict normal score porosity from depth over all locations in our model $\\bf{u} \\in AOI$. \n",
    "\n",
    "\\begin{equation}\n",
    "N\\{\\phi(\\bf{u})\\} = \\hat{f} (d(\\bf{u}))\n",
    "\\end{equation}\n",
    "\n",
    "and use this model to support the prediction of porosity between the wells.\n",
    "\n",
    "#### Design, Train and Test a Neural Network\n",
    "\n",
    "In the following code we use keras / tensorflow to:\n",
    "\n",
    "1. **Design the Network** - we use a fully connected, feed forward neural network with one node in the input and output layers, to receive the normalized depth and output the normalized (normal score) porosity.  We found by trial and error, given the complexity of the dataset, that we required a significant network width (about 500 nodes) and a network depth of atleast 4 hidden layers. \n",
    "\n",
    "\n",
    "2. **Select the Optimizer** - we selected the adam optimizer (Kingma and Ba, 2015).  This optimizer is computationally efficient and is well suited to problems with noisy data and sparse gradients. It is an extension of stochastic gradient descent with the addition of adaptive gradient algorithm that calculates per-parameter learning rates to improve learning with sparse gradients, and root mean square propopagation that sets the learning rate based on the recent magnitudes of the gradients for each parameter to improve performance with noisy data.  We include stochastic gradient descent for experimentation. \n",
    "\n",
    "    * we found a learning rate of 0.01 to 0.001 works well\n",
    "    * we found the rate of decay parameters of $\\beta_1=0.9$ and $\\beta_2=0.999$ performed well\n",
    "    \n",
    "\n",
    "3. **Compile the Machine** - specify the optimizer, loss function and the metric for model training. \n",
    "\n",
    "\n",
    "4. **Train the Network** - fit / train the model parameters over a specified number of batch size within a specified number of epochs.  We specify the train and test normalized predictor and response features.\n",
    "\n",
    "Then we visualize the model in the original units."
   ]
  },
  {
   "cell_type": "code",
   "execution_count": 11,
   "metadata": {},
   "outputs": [
    {
     "data": {
      "image/png": "[encoded data removed]",
      "text/plain": [
       "<Figure size 432x288 with 1 Axes>"
      ]
     },
     "metadata": {
      "needs_background": "light"
     },
     "output_type": "display_data"
    }
   ],
   "source": [
    "# Design the neural network\n",
    "model_2 = Sequential([\n",
    "    Dense(1, activation='linear', input_shape=(1,)),                  # input layer\n",
    "    Dense(50, activation='relu'),\n",
    "    Dense(50, activation='relu'),\n",
    "    Dense(50, activation='relu'), \n",
    "#    Dense(100, activation='relu'),                                    # uncomment these to add hidden layers\n",
    "#    Dense(100, activation='relu'),\n",
    "#    Dense(100, activation='relu'),\n",
    "#    Dense(100, activation='relu'),\n",
    "    Dense(1, activation='linear'),                                     # output layer\n",
    "])\n",
    "\n",
    "# Select the Optimizer\n",
    "adam = keras.optimizers.Adam(lr=0.001, beta_1=0.9, beta_2=0.999, epsilon=0.1, decay=0.0, amsgrad=False) # adam optimizer\n",
    "#sgd = keras.optimizers.SGD(lr=0.001, momentum=0.0, decay = 0.0, nesterov=False)  # stochastic gradient descent\n",
    "\n",
    "# Compile the Machine\n",
    "model_2.compile(optimizer=adam,loss='mse',metrics=['accuracy'])\n",
    "\n",
    "# Train the Network\n",
    "hist_2 = model_2.fit(X2_train['norm_Depth'], y2_train['norm_Nporosity'],\n",
    "    batch_size=5, epochs=1000,\n",
    "    validation_data=(X2_test['norm_Depth'], y2_test['norm_Nporosity']),verbose = 0)\n",
    "\n",
    "# Predict with the Network\n",
    "pred_norm_Nporsity = model_2.predict(np.array(norm_depth_bins)) # predict with our ANN\n",
    "pred_Nporosity = ((pred_norm_Nporsity + 1)/2*(Npor_max - Npor_min)+Npor_min)\n",
    "\n",
    "# Plot the Model Predictions\n",
    "plt.subplot(1,1,1)\n",
    "plt.plot(depth_bins,pred_Nporosity,'black',linewidth=2)\n",
    "plt.plot(X2_train['Depth'].values,y2_train['Nporosity'].values, 'o', markerfacecolor='red', markeredgecolor='black', alpha=1.0, label = \"Train\")\n",
    "plt.plot(X2_test['Depth'].values,y2_test['Nporosity'].values, 'o', markerfacecolor='blue', markeredgecolor='black', alpha=1.0, label = \"Test\")\n",
    "plt.xlabel('Depth (m)')\n",
    "plt.ylabel('Porosity (faction)')\n",
    "plt.legend()\n",
    "plt.subplots_adjust(left=0.0, bottom=0.0, right=2.0, top=0.8, wspace=0.2, hspace=0.2)\n",
    "plt.show()"
   ]
  },
  {
   "cell_type": "markdown",
   "metadata": {},
   "source": [
    "#### Evaluation of the Model\n",
    "\n",
    "For my specified artificial neural network design and optimization parameters I have a very flexible model to fit the data.\n",
    "\n",
    "* artificial neural networks live up to their designation as **Universal Function Approximators**\n",
    "\n",
    "Let's check the training curve, loss functions for our model over training and testing datasets.\n",
    "\n",
    "* **square loss** ($L_2$ loss) is the:\n",
    "\n",
    "\\begin{equation}\n",
    "L_2 = \\sum_{\\bf{u}_{\\alpha} \\in AOI} \\left(y(\\bf{u}_{\\alpha}) - \\hat{f}(x_1(\\bf{u}_{\\alpha}),\\ldots,x_m(\\bf{u}_{\\alpha})\\right)\n",
    "\\end{equation}\n",
    "\n",
    "* this is a measure of the inaccuracy over the available data\n",
    "\n",
    "We can see the progress of the model over epochs in reduction of training and testing error.\n",
    "\n",
    "* we can observe that the model matches the training data after about 200 epochs, but continues to improve up the 1,000 epochs"
   ]
  },
  {
   "cell_type": "code",
   "execution_count": 12,
   "metadata": {},
   "outputs": [
    {
     "data": {
      "image/png": "[encoded data removed]",
      "text/plain": [
       "<Figure size 432x288 with 1 Axes>"
      ]
     },
     "metadata": {
      "needs_background": "light"
     },
     "output_type": "display_data"
    }
   ],
   "source": [
    "# Plot the Loss vs. Training Epoch \n",
    "plt.subplot(1,1,1)\n",
    "plt.plot(hist_2.history['loss'])\n",
    "plt.plot(hist_2.history['val_loss'])\n",
    "plt.title('Loss function of Artificial Neural Net Example #2')\n",
    "plt.ylabel('loss')\n",
    "plt.xlabel('epoch')\n",
    "plt.legend(['train', 'test'], loc='upper right')\n",
    "plt.ylim(0,0.4)\n",
    "plt.grid()\n",
    "plt.tight_layout()\n",
    "plt.subplots_adjust(left=0.0, bottom=0.0, right=2.0, top=0.8, wspace=0.2, hspace=0.2)\n",
    "plt.show()"
   ]
  },
  {
   "cell_type": "markdown",
   "metadata": {},
   "source": [
    "#### Some Observations\n",
    "\n",
    "We performed a set of experiments and made the following observations that may help you experiment with the design and training of this artificial neural network. Each machine was trained over 1000 epochs with a batch size of 5.\n",
    " \n",
    "For a 1 $\\times$ 100 $\\times$ 100 $\\times$ 1 neural network:\n",
    "* Learning Rate of 0.001 still converging at 1000 epochs, missing some features\n",
    "* Learning Rate of 0.1 - stuck in a local minum as a step function\n",
    "\n",
    "For a 1 $\\times$ 500 $\\times$ 500 $\\times$ 1 neural network:\n",
    "* Learning Rate of 0.01 - 0.001 for a close fit to training data\n",
    "* Learning Rate of 0.1 - stuck in a local minimum as a line\n",
    "* Learning Rate of $\\le$ 0.0001 still converging at 1000 epochs, missing some features\n",
    "\n",
    "For a 1 $\\times$ 500 $\\times$ 500 $\\times$ 500 $\\times$ 1 neural network:\n",
    "* Learning Rate of 0.01 - 0.001 for a close fit to training data\n",
    "* Learning Rate of 0.1 - stuck as a line\n",
    "* Learning Rate of $\\le$ 0.0001 still converging at 1000 epochs, missing some features\n",
    "\n",
    "#### Visualizing the Neural Net\n",
    "\n",
    "There are some methods available to interogate the artificial neural net.\n",
    "\n",
    "* neural net summary\n",
    "\n",
    "* weights\n",
    "\n",
    "Here's the summary from our neural net.  It lists by layers the number of nodes and number of parameters."
   ]
  },
  {
   "cell_type": "code",
   "execution_count": 13,
   "metadata": {},
   "outputs": [
    {
     "name": "stdout",
     "output_type": "stream",
     "text": [
      "Model: \"sequential_1\"\n",
      "_________________________________________________________________\n",
      "Layer (type)                 Output Shape              Param #   \n",
      "=================================================================\n",
      "dense_1 (Dense)              (None, 1)                 2         \n",
      "_________________________________________________________________\n",
      "dense_2 (Dense)              (None, 50)                100       \n",
      "_________________________________________________________________\n",
      "dense_3 (Dense)              (None, 50)                2550      \n",
      "_________________________________________________________________\n",
      "dense_4 (Dense)              (None, 50)                2550      \n",
      "_________________________________________________________________\n",
      "dense_5 (Dense)              (None, 1)                 51        \n",
      "=================================================================\n",
      "Total params: 5,253\n",
      "Trainable params: 5,253\n",
      "Non-trainable params: 0\n",
      "_________________________________________________________________\n"
     ]
    }
   ],
   "source": [
    "model_2.summary()                                      # artificial neural network design and number of parameters"
   ]
  },
  {
   "cell_type": "markdown",
   "metadata": {},
   "source": [
    "We can also see the actual trained weights for each node in each layer."
   ]
  },
  {
   "cell_type": "code",
   "execution_count": 14,
   "metadata": {},
   "outputs": [
    {
     "name": "stdout",
     "output_type": "stream",
     "text": [
      "{'name': 'dense_1', 'trainable': True, 'batch_input_shape': (None, 1), 'dtype': 'float32', 'units': 1, 'activation': 'linear', 'use_bias': True, 'kernel_initializer': {'class_name': 'VarianceScaling', 'config': {'scale': 1.0, 'mode': 'fan_avg', 'distribution': 'uniform', 'seed': None}}, 'bias_initializer': {'class_name': 'Zeros', 'config': {}}, 'kernel_regularizer': None, 'bias_regularizer': None, 'activity_regularizer': None, 'kernel_constraint': None, 'bias_constraint': None}\n",
      "[array([[-1.4147551]], dtype=float32), array([-0.01439498], dtype=float32)]\n",
      "\n",
      "\n",
      "{'name': 'dense_2', 'trainable': True, 'dtype': 'float32', 'units': 50, 'activation': 'relu', 'use_bias': True, 'kernel_initializer': {'class_name': 'VarianceScaling', 'config': {'scale': 1.0, 'mode': 'fan_avg', 'distribution': 'uniform', 'seed': None}}, 'bias_initializer': {'class_name': 'Zeros', 'config': {}}, 'kernel_regularizer': None, 'bias_regularizer': None, 'activity_regularizer': None, 'kernel_constraint': None, 'bias_constraint': None}\n",
      "[array([[ 0.14932705, -0.10264604, -0.33969954,  0.31093252,  0.2145236 ,\n",
      "         0.32180798, -0.10889235,  0.11232843,  0.19960962, -0.07476728,\n",
      "         0.33294153, -0.16865699, -0.06445652, -0.09790467, -0.27024695,\n",
      "        -0.13523069,  0.10387363, -0.04809465, -0.13572337, -0.06897725,\n",
      "         0.01293801, -0.0818542 ,  0.3029526 ,  0.11031199, -0.05332224,\n",
      "        -0.13779743, -0.1960506 ,  0.17890808,  0.03713334,  0.33075982,\n",
      "        -0.3571539 ,  0.35861987, -0.4360629 ,  0.19757433,  0.34264985,\n",
      "        -0.39899147, -0.40658435,  0.35157818,  0.3341597 , -0.17569157,\n",
      "         0.06848703,  0.32751465,  0.11594795,  0.11036058,  0.21403904,\n",
      "         0.12671849,  0.23514925,  0.35449335, -0.40580526, -0.1251979 ]],\n",
      "      dtype=float32), array([ 0.15805052,  0.04639233, -0.14979026,  0.04190359, -0.05533486,\n",
      "       -0.07855641,  0.07349111,  0.05456657,  0.10348058,  0.02873405,\n",
      "        0.05281656,  0.06403538, -0.03816955,  0.06675835, -0.12390574,\n",
      "        0.0499173 , -0.00900104, -0.02229033, -0.05759256, -0.03734602,\n",
      "        0.1180668 ,  0.02488017, -0.05091116,  0.063106  , -0.02268437,\n",
      "        0.05360034, -0.08751819, -0.01517691, -0.01356514, -0.05576697,\n",
      "        0.1012039 ,  0.06980153, -0.00039215,  0.00675403,  0.07087351,\n",
      "        0.01530368,  0.09749544, -0.0187586 , -0.103553  , -0.07356291,\n",
      "        0.03181727, -0.07454017,  0.1214256 ,  0.11316214, -0.08233985,\n",
      "       -0.0489201 , -0.02484316, -0.02451238,  0.02197754,  0.01190174],\n",
      "      dtype=float32)]\n",
      "\n",
      "\n",
      "{'name': 'dense_3', 'trainable': True, 'dtype': 'float32', 'units': 50, 'activation': 'relu', 'use_bias': True, 'kernel_initializer': {'class_name': 'VarianceScaling', 'config': {'scale': 1.0, 'mode': 'fan_avg', 'distribution': 'uniform', 'seed': None}}, 'bias_initializer': {'class_name': 'Zeros', 'config': {}}, 'kernel_regularizer': None, 'bias_regularizer': None, 'activity_regularizer': None, 'kernel_constraint': None, 'bias_constraint': None}\n",
      "[array([[ 0.0866008 , -0.21138714,  0.15490103, ...,  0.08791801,\n",
      "        -0.20053284, -0.1396334 ],\n",
      "       [ 0.20794626,  0.24296068, -0.05863846, ...,  0.06347975,\n",
      "         0.13191554, -0.03819601],\n",
      "       [-0.06086044,  0.09654687, -0.09340851, ...,  0.01657305,\n",
      "        -0.20065042,  0.21152455],\n",
      "       ...,\n",
      "       [-0.04771208, -0.02832811, -0.12004983, ...,  0.06046649,\n",
      "         0.09631606, -0.05782987],\n",
      "       [-0.11109008, -0.06808387,  0.09883186, ...,  0.00329898,\n",
      "         0.0576255 ,  0.06109186],\n",
      "       [ 0.13807462,  0.18745   ,  0.05581758, ...,  0.2326659 ,\n",
      "        -0.20272887, -0.16097307]], dtype=float32), array([ 0.05101582,  0.        ,  0.02542396, -0.00347636, -0.0223903 ,\n",
      "        0.09835865,  0.0798394 , -0.02111746, -0.07176589, -0.06391353,\n",
      "       -0.03750122,  0.        , -0.09393993, -0.0064932 , -0.02601191,\n",
      "       -0.00417237,  0.0005519 ,  0.10209791, -0.06978188, -0.05172044,\n",
      "       -0.01140783,  0.04800964, -0.00018656, -0.07705417,  0.        ,\n",
      "        0.05335341, -0.00240031, -0.04992656,  0.        ,  0.07506768,\n",
      "       -0.02420867, -0.13116798,  0.0325961 ,  0.07715552,  0.0288214 ,\n",
      "        0.        ,  0.02394254, -0.10720296,  0.01065158,  0.14125985,\n",
      "       -0.01599568, -0.00912616, -0.03190614, -0.01432877,  0.03649216,\n",
      "        0.        , -0.1289962 ,  0.09527948,  0.03214816,  0.00883843],\n",
      "      dtype=float32)]\n",
      "\n",
      "\n",
      "{'name': 'dense_4', 'trainable': True, 'dtype': 'float32', 'units': 50, 'activation': 'relu', 'use_bias': True, 'kernel_initializer': {'class_name': 'VarianceScaling', 'config': {'scale': 1.0, 'mode': 'fan_avg', 'distribution': 'uniform', 'seed': None}}, 'bias_initializer': {'class_name': 'Zeros', 'config': {}}, 'kernel_regularizer': None, 'bias_regularizer': None, 'activity_regularizer': None, 'kernel_constraint': None, 'bias_constraint': None}\n",
      "[array([[ 0.2017359 ,  0.04852907, -0.09683076, ..., -0.16730429,\n",
      "         0.15774786,  0.22081845],\n",
      "       [ 0.07849912, -0.20400417,  0.11156546, ..., -0.0733072 ,\n",
      "        -0.21984106,  0.14336787],\n",
      "       [ 0.00401099,  0.02843739, -0.17725673, ..., -0.03047054,\n",
      "        -0.21612985,  0.2441821 ],\n",
      "       ...,\n",
      "       [-0.07843167,  0.16164169, -0.1797968 , ...,  0.12517963,\n",
      "        -0.08316862,  0.1434726 ],\n",
      "       [ 0.10173218, -0.10393211, -0.06448039, ..., -0.22463293,\n",
      "        -0.1503938 ,  0.02178239],\n",
      "       [-0.11031582, -0.23266369,  0.07794039, ...,  0.05014483,\n",
      "        -0.14935404, -0.23623961]], dtype=float32), array([ 9.3679875e-03,  1.2377323e-01,  0.0000000e+00,  0.0000000e+00,\n",
      "       -3.2503634e-05,  2.8882851e-03, -3.2200597e-02, -1.0813296e-02,\n",
      "       -5.4183293e-02, -3.1078339e-02,  1.8644951e-01,  8.5919648e-03,\n",
      "        3.6846563e-02, -2.7950978e-02,  0.0000000e+00,  1.0588286e-02,\n",
      "       -5.0117053e-02,  2.5520054e-01,  8.6884663e-02,  1.1265171e-02,\n",
      "       -3.8141143e-02,  6.6869329e-03, -4.4384148e-02, -4.9200650e-02,\n",
      "        5.8690425e-02,  4.1194636e-02, -1.5451083e-01, -2.6052179e-02,\n",
      "       -2.3299415e-02,  0.0000000e+00, -7.5197183e-03,  5.6359409e-03,\n",
      "        5.1748879e-02,  0.0000000e+00, -3.7939171e-03, -6.4558670e-02,\n",
      "       -2.2134623e-03, -1.1186364e-01,  7.3970067e-03,  2.6078340e-02,\n",
      "       -2.5315320e-03, -4.4786047e-02,  6.9038056e-02, -5.5410530e-02,\n",
      "       -3.3260349e-02, -3.3550650e-02, -8.0370814e-02, -3.9808478e-02,\n",
      "       -9.5356070e-03, -9.8134512e-03], dtype=float32)]\n",
      "\n",
      "\n",
      "{'name': 'dense_5', 'trainable': True, 'dtype': 'float32', 'units': 1, 'activation': 'linear', 'use_bias': True, 'kernel_initializer': {'class_name': 'VarianceScaling', 'config': {'scale': 1.0, 'mode': 'fan_avg', 'distribution': 'uniform', 'seed': None}}, 'bias_initializer': {'class_name': 'Zeros', 'config': {}}, 'kernel_regularizer': None, 'bias_regularizer': None, 'activity_regularizer': None, 'kernel_constraint': None, 'bias_constraint': None}\n",
      "[array([[-0.16305435],\n",
      "       [ 0.42568576],\n",
      "       [ 0.18006864],\n",
      "       [ 0.19075295],\n",
      "       [-0.16755088],\n",
      "       [ 0.09531375],\n",
      "       [-0.24258316],\n",
      "       [-0.23820902],\n",
      "       [-0.19713452],\n",
      "       [-0.35616592],\n",
      "       [ 0.41602623],\n",
      "       [-0.25280344],\n",
      "       [-0.4190078 ],\n",
      "       [ 0.4045327 ],\n",
      "       [-0.20327619],\n",
      "       [-0.08012178],\n",
      "       [ 0.37359467],\n",
      "       [ 0.62110245],\n",
      "       [ 0.11764995],\n",
      "       [-0.39577144],\n",
      "       [ 0.41038996],\n",
      "       [-0.03371648],\n",
      "       [ 0.16390693],\n",
      "       [-0.33833063],\n",
      "       [-0.02636404],\n",
      "       [-0.17616838],\n",
      "       [ 0.13386253],\n",
      "       [ 0.326801  ],\n",
      "       [ 0.30463552],\n",
      "       [ 0.12390026],\n",
      "       [-0.15731595],\n",
      "       [-0.460756  ],\n",
      "       [-0.47303808],\n",
      "       [-0.10336666],\n",
      "       [ 0.21012333],\n",
      "       [-0.43154874],\n",
      "       [ 0.01475829],\n",
      "       [ 0.29482684],\n",
      "       [-0.19771074],\n",
      "       [ 0.04589447],\n",
      "       [-0.01176003],\n",
      "       [ 0.1036011 ],\n",
      "       [-0.3254732 ],\n",
      "       [ 0.2954911 ],\n",
      "       [ 0.11060128],\n",
      "       [ 0.17618638],\n",
      "       [ 0.3177019 ],\n",
      "       [ 0.27403128],\n",
      "       [ 0.19958013],\n",
      "       [-0.23037782]], dtype=float32), array([0.08575688], dtype=float32)]\n",
      "\n",
      "\n"
     ]
    }
   ],
   "source": [
    "for layer in model_2.layers:                            # weights for the trained artificial neural network\n",
    "    g = layer.get_config()\n",
    "    h = layer.get_weights()\n",
    "    print(g)\n",
    "    print(h)\n",
    "    print('\\n')"
   ]
  },
  {
   "cell_type": "markdown",
   "metadata": {},
   "source": [
    "We can observe the weights and bias terms associate with our neural network."
   ]
  }
 ],
 "metadata": {
  "kernelspec": {
   "display_name": "Python 3",
   "language": "python",
   "name": "python3"
  },
  "language_info": {
   "codemirror_mode": {
    "name": "ipython",
    "version": 3
   },
   "file_extension": ".py",
   "mimetype": "text/x-python",
   "name": "python",
   "nbconvert_exporter": "python",
   "pygments_lexer": "ipython3",
   "version": "3.7.8"
  }
 },
 "nbformat": 4,
 "nbformat_minor": 4
}
