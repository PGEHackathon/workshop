{
 "cells": [
  {
   "cell_type": "markdown",
   "metadata": {
    "slideshow": {
     "slide_type": "slide"
    }
   },
   "source": [
    "<table>\n",
    "    <tr style=\"background-color: white\">\n",
    "        <td>\n",
    "<div style=\"width: 350;\">\n",
    "    <div style=\"width:150; float: left; padding: 75px\">\n",
    "        <img src=\"https://git-scm.com/images/logos/downloads/Git-Logo-2Color.png\" alt=\"git\" width=200>\n",
    "    </div>\n",
    "    <div style=\"width:200; float: left\">\n",
    "        <img src=\"https://github.githubassets.com/images/modules/logos_page/GitHub-Mark.png\" alt=\"github\" width=250>\n",
    "    </div>\n",
    "</div>\n",
    "    </td>\n",
    "    </tr>\n",
    "</table>"
   ]
  },
  {
   "cell_type": "markdown",
   "metadata": {
    "slideshow": {
     "slide_type": "subslide"
    }
   },
   "source": [
    "# git\n",
    "\n",
    " * `git` is a *version control* system\n",
    " \n",
    " * Commonly used by large code development projects to track and commit changes/additions to the codebase.\n",
    " \n",
    " * Written by Linus Torvalds to manage the Linux kernel project\n",
    " \n",
    " * Other version control systems\n",
    "     * `cvs` -- **C**oncurrent **V**ersioning **S**ystem\n",
    "     \n",
    "     * `svn` -- **S**ub**v**ersio**n**\n",
    "     \n",
    "     * `hg` -- Mercurial"
   ]
  },
  {
   "cell_type": "markdown",
   "metadata": {
    "slideshow": {
     "slide_type": "subslide"
    }
   },
   "source": [
    "# Creating a repository\n",
    "\n",
    "In the directory that contains the files you want to track, type:\n",
    "\n",
    "```\n",
    "> git init\n",
    "```\n",
    "\n",
    "That’s it!\n",
    "  "
   ]
  },
  {
   "cell_type": "markdown",
   "metadata": {
    "slideshow": {
     "slide_type": "subslide"
    }
   },
   "source": [
    "# Adding files to the repository\n",
    "\n",
    "git doesn’t assume that all files in the directory should be committed to the repository, you must add them. To get a listing of both tracked and untracked files.\n",
    "\n",
    "```\n",
    "> git status\n",
    "```\n",
    "\n",
    "To add a file, (e.g. `file.txt`) to the repository index\n",
    "\n",
    "```\n",
    "> git add file.txt\n",
    "```\n",
    "\n",
    "To add all files in a directory.\n",
    "\n",
    "```\n",
    "> git add .\n",
    "```"
   ]
  },
  {
   "cell_type": "markdown",
   "metadata": {
    "slideshow": {
     "slide_type": "subslide"
    }
   },
   "source": [
    "# Committing\n",
    "\n",
    "Once you have added files to the index and your ready to save a “snapshot” of your repository, perform a commit\n",
    "\n",
    "```\n",
    "> git commit -m 'a commit message'\n",
    "```\n",
    "\n",
    "Leave off the `-m` and your `$EDITOR` will open for you to include a longer commit message.\n",
    "To commit all modified files already tracked in the repository without explicitly using `git add` use the `-a` option\n",
    "\n",
    "```\n",
    "> git commit -a -m 'a commit message'\n",
    "```"
   ]
  },
  {
   "cell_type": "markdown",
   "metadata": {
    "slideshow": {
     "slide_type": "subslide"
    }
   },
   "source": [
    "# Good commit messages\n",
    "\n",
    "### Long(er) commit message example\n",
    "\n",
    "```\n",
    "Short (50 chars or less) summary of changes.\n",
    "\n",
    "More detailed explanatory text, if necessary.  Wrap it at 72 characters.\n",
    "The first line is treated as the subject of an email and the rest of the\n",
    "text as the body.  The blank line separating the summary from the body\n",
    "is critical.\n",
    "\n",
    "Write your commit message in the present tense:  \"Fix bug\" and not\n",
    "\"Fixed bug.\"\n",
    "\n",
    "Further paragraphs come after blank lines.\n",
    "\n",
    "* Bullet points are okay, too\n",
    "* Typically a hyphen or asterisk is used for the bullet, preceded by a\n",
    "single space, with blank lines in between\n",
    "```   "
   ]
  },
  {
   "cell_type": "markdown",
   "metadata": {
    "slideshow": {
     "slide_type": "subslide"
    }
   },
   "source": [
    "# Excluding files\n",
    "\n",
    "Put files you don’t want to appear in the status listing in a file named `.gitignore`\n",
    "\n",
    "### Example .gitignore file\n",
    "\n",
    "```\n",
    "# Ignore emacs backup files:\n",
    "*~\n",
    "\n",
    "# Ignore everything in the docs directory:\n",
    "docs\n",
    "```"
   ]
  },
  {
   "cell_type": "markdown",
   "metadata": {
    "slideshow": {
     "slide_type": "subslide"
    }
   },
   "source": [
    "# Removing files from git\n",
    "\n",
    "To remove a file (e.g., `file.txt`) from your repository use \n",
    "\n",
    "```\n",
    "> git rm file.txt\n",
    "```\n",
    "\n",
    "This removes `file.txt` completely from your disk, same as regular UNIX `rm`\n",
    "\n",
    "If you only want to remove a file from the git repository, but leave it in your working directory use:\n",
    "\n",
    "```\n",
    "> git rm --cached file.txt\n",
    "```\n",
    "             "
   ]
  },
  {
   "cell_type": "markdown",
   "metadata": {
    "slideshow": {
     "slide_type": "subslide"
    }
   },
   "source": [
    "# Going back in time (reverting)\n",
    "\n",
    "To go back to the previous commit\n",
    "\n",
    "```\n",
    "> git revert HEAD\n",
    "```\n",
    "\n",
    "To go back three commits\n",
    "\n",
    "```\n",
    "> git revert HEAD~3\n",
    "```\n",
    "\n",
    "To go back to a specific commit\n",
    "\n",
    "```\n",
    "> git revert daa8d81f\n",
    "```\n",
    "\n",
    "The `daa8d81f` is a hash string that identifies the commit, it can be seen with `git log`"
   ]
  },
  {
   "cell_type": "markdown",
   "metadata": {
    "slideshow": {
     "slide_type": "subslide"
    }
   },
   "source": [
    "# Going back while trashing changes\n",
    "\n",
    "To permanently trash your changes and get back the most recent commit\n",
    "\n",
    "```\n",
    "> git reset --hard HEAD\n",
    "```\n",
    "\n",
    "To get back a previous commit and trash all commits that happened after\n",
    "\n",
    "```\n",
    "> git reset --hard daa8d81f\n",
    "```\n",
    "\n",
    "If you only want to reset one file (e.g., ``file.txt``)\n",
    "\n",
    "```\n",
    "> git checkout file.txt\n",
    "```"
   ]
  },
  {
   "cell_type": "markdown",
   "metadata": {
    "slideshow": {
     "slide_type": "subslide"
    }
   },
   "source": [
    "# Cloning remote repositories\n",
    "\n",
    "To clone remote (not local to your machine) repositories and create a local working copy for your own modification use `git clone`, e.g.,\n",
    "\n",
    "```\n",
    "> git clone git://github.com/johntfoster/dotvim.git ~/.vim\n",
    "```\n",
    "\n",
    "Will clone my dotvim repository to a folder in `~` named `.vim` This repository becomes local, i.e. you can make changes and local commits.\n",
    "\n",
    "To stay \"in sync\"\n",
    "\n",
    "```\n",
    "> git pull origin master\n",
    "```\n",
    "\n",
    "`origin` is the default remote repo name and `master` is the default branch name."
   ]
  },
  {
   "cell_type": "markdown",
   "metadata": {
    "slideshow": {
     "slide_type": "subslide"
    }
   },
   "source": [
    "# Pushing to remote repositories\n",
    "\n",
    "To push changes to a remote repository, any local changes must be first commited locally as usual:\n",
    "\n",
    "```\n",
    "git commit -am \"A commit message.\"\n",
    "```\n",
    "\n",
    "The push to the remote repository with\n",
    "\n",
    "```\n",
    "git push origin master\n",
    "```"
   ]
  },
  {
   "cell_type": "markdown",
   "metadata": {
    "slideshow": {
     "slide_type": "subslide"
    }
   },
   "source": [
    "# Advanced features\n",
    "\n",
    "* Branching\n",
    "* Merging"
   ]
  },
  {
   "cell_type": "markdown",
   "metadata": {
    "slideshow": {
     "slide_type": "slide"
    }
   },
   "source": [
    "# Github\n",
    "\n",
    "* https://github.com\n",
    "\n",
    "* Cloud based remote repository server\n",
    "\n",
    "   * Unlimited public repositories\n",
    "   * Private repositories available (educational plans for free)\n",
    "   * Teams/Organizations\n",
    "   * Integrated \"Pull request\" and code review system\n",
    "   \n",
    "* Similar services\n",
    "\n",
    "   * https://bitbucket.org\n",
    "   * https://gitlab.com"
   ]
  },
  {
   "cell_type": "code",
   "execution_count": 3,
   "metadata": {
    "hide_input": true,
    "init_cell": true,
    "javascript_last_cell": true
   },
   "outputs": [
    {
     "data": {
      "application/javascript": [
       "function hideElements(elements, start) {\n",
       "for(var i = 0, length = elements.length; i < length;i++) {\n",
       "    if(i >= start) {\n",
       "        elements[i].style.display = \"none\";\n",
       "    }\n",
       "}\n",
       "}\n",
       "var prompt_elements = document.getElementsByClassName(\"prompt\");\n",
       "hideElements(prompt_elements, 0)\n"
      ],
      "text/plain": [
       "<IPython.core.display.Javascript object>"
      ]
     },
     "metadata": {},
     "output_type": "display_data"
    }
   ],
   "source": [
    "%%javascript\n",
    "function hideElements(elements, start) {\n",
    "for(var i = 0, length = elements.length; i < length;i++) {\n",
    "    if(i >= start) {\n",
    "        elements[i].style.display = \"none\";\n",
    "    }\n",
    "}\n",
    "}\n",
    "var prompt_elements = document.getElementsByClassName(\"prompt\");\n",
    "hideElements(prompt_elements, 0)"
   ]
  }
 ],
 "metadata": {
  "celltoolbar": "Slideshow",
  "kernelspec": {
   "display_name": "Python 3",
   "language": "python",
   "name": "python3"
  },
  "language_info": {
   "codemirror_mode": {
    "name": "ipython",
    "version": 3
   },
   "file_extension": ".py",
   "mimetype": "text/x-python",
   "name": "python",
   "nbconvert_exporter": "python",
   "pygments_lexer": "ipython3",
   "version": "3.7.8"
  },
  "rise": {
   "auto_select": null,
   "autolaunch": false,
   "controls": true,
   "enable_chalkboard": false,
   "footer": "",
   "progress": true,
   "scroll": true,
   "slideNumber": false,
   "theme": "simple"
  }
 },
 "nbformat": 4,
 "nbformat_minor": 2
}
